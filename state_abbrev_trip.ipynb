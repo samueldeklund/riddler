{
 "cells": [
  {
   "cell_type": "markdown",
   "metadata": {},
   "source": [
    "Solution to FiveThirtyEight.com Riddler Classic posted Sep 13, 2019"
   ]
  },
  {
   "cell_type": "code",
   "execution_count": 1,
   "metadata": {},
   "outputs": [],
   "source": [
    "from itertools import permutations\n",
    "from typing import Sequence"
   ]
  },
  {
   "cell_type": "code",
   "execution_count": 2,
   "metadata": {},
   "outputs": [],
   "source": [
    "import networkx as nx\n",
    "import pandas as pd\n",
    "import requests\n",
    "from tqdm import tqdm"
   ]
  },
  {
   "cell_type": "code",
   "execution_count": 3,
   "metadata": {},
   "outputs": [],
   "source": [
    "headers = {\n",
    "    'Accept-Encoding': 'gzip, deflate, sdch',\n",
    "    'Accept-Language': 'en-US,en;q=0.8',\n",
    "    'Upgrade-Insecure-Requests': '1',\n",
    "    'User-Agent': 'Mozilla/5.0 (X11; Linux x86_64) AppleWebKit/537.36 (KHTML, like Gecko) Chrome/56.0.2924.87 Safari/537.36',\n",
    "    'Accept': 'text/html,application/xhtml+xml,application/xml;q=0.9,image/webp,*/*;q=0.8',\n",
    "    'Cache-Control': 'max-age=0',\n",
    "    'Connection': 'keep-alive',\n",
    "}"
   ]
  },
  {
   "cell_type": "code",
   "execution_count": 4,
   "metadata": {},
   "outputs": [],
   "source": [
    "resp = requests.get(\"https://pe.usps.com/text/pub28/28apb.htm\", headers=headers)"
   ]
  },
  {
   "cell_type": "code",
   "execution_count": 5,
   "metadata": {},
   "outputs": [],
   "source": [
    "table = pd.read_html(resp.content)[2]\n",
    "df = pd.DataFrame(data=table[1:])\n",
    "df.columns = [\"state\", \"abbreviation\"]"
   ]
  },
  {
   "cell_type": "code",
   "execution_count": 6,
   "metadata": {},
   "outputs": [],
   "source": [
    "g = nx.DiGraph()"
   ]
  },
  {
   "cell_type": "code",
   "execution_count": 7,
   "metadata": {},
   "outputs": [],
   "source": [
    "g.add_edges_from(\n",
    "    edge\n",
    "    for edge in permutations(df.abbreviation, 2)\n",
    "    if edge[0][1] == edge[1][0]\n",
    ")"
   ]
  },
  {
   "cell_type": "code",
   "execution_count": 14,
   "metadata": {},
   "outputs": [
    {
     "data": {
      "text/plain": [
       "59"
      ]
     },
     "execution_count": 14,
     "metadata": {},
     "output_type": "execute_result"
    }
   ],
   "source": [
    "len(g.nodes)"
   ]
  },
  {
   "cell_type": "code",
   "execution_count": 15,
   "metadata": {},
   "outputs": [
    {
     "data": {
      "text/plain": [
       "168"
      ]
     },
     "execution_count": 15,
     "metadata": {},
     "output_type": "execute_result"
    }
   ],
   "source": [
    "len(g.edges)"
   ]
  },
  {
   "cell_type": "code",
   "execution_count": 8,
   "metadata": {},
   "outputs": [],
   "source": [
    "def find_longest_path(source: str, target: str):\n",
    "    longest = []\n",
    "    for path in nx.algorithms.simple_paths.all_simple_paths(g, source, target):\n",
    "        if len(path) > len(longest):\n",
    "            longest = path\n",
    "    return longest"
   ]
  },
  {
   "cell_type": "code",
   "execution_count": 9,
   "metadata": {},
   "outputs": [],
   "source": [
    "def render_path(path: Sequence):\n",
    "    return \"\".join(node[0] for node in path) + path[-1][-1]"
   ]
  },
  {
   "cell_type": "code",
   "execution_count": 10,
   "metadata": {},
   "outputs": [],
   "source": [
    "def calc_answer():\n",
    "    longest = []\n",
    "    longest_len = len(longest)\n",
    "    for pair in tqdm(list(permutations(g.nodes, 2))):\n",
    "        this_longest_path = find_longest_path(*pair)\n",
    "        this_longest_len = len(this_longest_path)\n",
    "        if this_longest_len > longest_len:\n",
    "            longest = this_longest_path\n",
    "            longest_len = this_longest_len\n",
    "    return longest"
   ]
  },
  {
   "cell_type": "code",
   "execution_count": 11,
   "metadata": {},
   "outputs": [
    {
     "name": "stderr",
     "output_type": "stream",
     "text": [
      "100%|██████████| 3422/3422 [1:38:00<00:00,  1.72s/it]  \n"
     ]
    }
   ],
   "source": [
    "longest = calc_answer()"
   ]
  },
  {
   "cell_type": "code",
   "execution_count": 12,
   "metadata": {},
   "outputs": [
    {
     "data": {
      "text/plain": [
       "['FM',\n",
       " 'MN',\n",
       " 'NV',\n",
       " 'VI',\n",
       " 'ID',\n",
       " 'DC',\n",
       " 'CA',\n",
       " 'AL',\n",
       " 'LA',\n",
       " 'AK',\n",
       " 'KS',\n",
       " 'SC',\n",
       " 'CO',\n",
       " 'OH',\n",
       " 'HI',\n",
       " 'IN',\n",
       " 'NC',\n",
       " 'CT',\n",
       " 'TN',\n",
       " 'NM',\n",
       " 'MP',\n",
       " 'PW',\n",
       " 'WV',\n",
       " 'VA',\n",
       " 'AR',\n",
       " 'RI',\n",
       " 'IA',\n",
       " 'AS',\n",
       " 'SD',\n",
       " 'DE']"
      ]
     },
     "execution_count": 12,
     "metadata": {},
     "output_type": "execute_result"
    }
   ],
   "source": [
    "longest"
   ]
  },
  {
   "cell_type": "code",
   "execution_count": 13,
   "metadata": {},
   "outputs": [
    {
     "data": {
      "text/plain": [
       "'FMNVIDCALAKSCOHINCTNMPWVARIASDE'"
      ]
     },
     "execution_count": 13,
     "metadata": {},
     "output_type": "execute_result"
    }
   ],
   "source": [
    "render_path(longest)"
   ]
  },
  {
   "cell_type": "markdown",
   "metadata": {},
   "source": [
    "I used the Python library networkx to build a directed graph of all the two-letter state and territory abbreviations. Each node was an abbreviation and each edge pointed from a node with a second letter to a node with a matching first letter. The graph had 59 nodes and 168 edges. I then found all simple paths (paths that do not repeat a node) between every possible pair of nodes and kept the longest path. The answer rendered as a string is \"FMNVIDCALAKSCOHINCTNMPWVARIASDE\". The (admittedly single-threaded) computation took about 1 hour, 38 minutes on my 3.2 GHz Intel Xeon W iMac Pro."
   ]
  }
 ],
 "metadata": {
  "kernelspec": {
   "display_name": "Python 3",
   "language": "python",
   "name": "python3"
  },
  "language_info": {
   "codemirror_mode": {
    "name": "ipython",
    "version": 3
   },
   "file_extension": ".py",
   "mimetype": "text/x-python",
   "name": "python",
   "nbconvert_exporter": "python",
   "pygments_lexer": "ipython3",
   "version": "3.7.3"
  }
 },
 "nbformat": 4,
 "nbformat_minor": 4
}
